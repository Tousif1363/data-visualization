{
 "cells": [
  {
   "cell_type": "code",
   "execution_count": 8,
   "metadata": {
    "collapsed": true
   },
   "outputs": [],
   "source": [
    "# magic function - provides an interactive environment\n",
    "%matplotlib notebook "
   ]
  },
  {
   "cell_type": "code",
   "execution_count": 9,
   "metadata": {
    "collapsed": true
   },
   "outputs": [],
   "source": [
    "import matplotlib as mpl"
   ]
  },
  {
   "cell_type": "code",
   "execution_count": 10,
   "metadata": {},
   "outputs": [
    {
     "data": {
      "text/plain": [
       "'nbAgg'"
      ]
     },
     "execution_count": 10,
     "metadata": {},
     "output_type": "execute_result"
    }
   ],
   "source": [
    "mpl.get_backend()"
   ]
  },
  {
   "cell_type": "code",
   "execution_count": 1,
   "metadata": {
    "collapsed": true
   },
   "outputs": [],
   "source": [
    "import matplotlib.pyplot as plt"
   ]
  },
  {
   "cell_type": "code",
   "execution_count": 7,
   "metadata": {},
   "outputs": [
    {
     "data": {
      "image/png": "[encoded data removed]",
      "text/plain": [
       "<matplotlib.figure.Figure at 0x1143e97b8>"
      ]
     },
     "metadata": {},
     "output_type": "display_data"
    }
   ],
   "source": [
    "plt.plot(3, 2)\n",
    "plt.show()"
   ]
  },
  {
   "cell_type": "code",
   "execution_count": 6,
   "metadata": {},
   "outputs": [
    {
     "data": {
      "text/plain": [
       "[<matplotlib.lines.Line2D at 0x1144cc898>]"
      ]
     },
     "execution_count": 6,
     "metadata": {},
     "output_type": "execute_result"
    }
   ],
   "source": [
    "plt.plot(3, 2, '.')"
   ]
  },
  {
   "cell_type": "code",
   "execution_count": 8,
   "metadata": {
    "collapsed": true
   },
   "outputs": [],
   "source": [
    "plt.show()"
   ]
  },
  {
   "cell_type": "code",
   "execution_count": 10,
   "metadata": {},
   "outputs": [],
   "source": [
    "from matplotlib.backends.backend_agg import FigureCanvasAgg\n",
    "from matplotlib.figure import Figure\n",
    "\n",
    "fig = Figure()\n",
    "canvas = FigureCanvasAgg(fig)\n",
    "\n",
    "ax = fig.add_subplot(111)\n",
    "ax.plot(3, 2, '.')\n",
    "\n",
    "canvas.print_png('test.png')"
   ]
  },
  {
   "cell_type": "code",
   "execution_count": 11,
   "metadata": {},
   "outputs": [
    {
     "data": {
      "text/html": [
       "<img src='test.png' />"
      ],
      "text/plain": [
       "<IPython.core.display.HTML object>"
      ]
     },
     "metadata": {},
     "output_type": "display_data"
    }
   ],
   "source": [
    "%%html\n",
    "<img src='test.png' />"
   ]
  },
  {
   "cell_type": "code",
   "execution_count": 17,
   "metadata": {},
   "outputs": [
    {
     "data": {
      "image/png": "[encoded data removed]",
      "text/plain": [
       "<matplotlib.figure.Figure at 0x11501e908>"
      ]
     },
     "metadata": {},
     "output_type": "display_data"
    }
   ],
   "source": [
    "plt.figure()\n",
    "plt.plot(3, 2, '.')\n",
    "ax = plt.gca()\n",
    "ax.axis([0, 6, 0, 10])\n",
    "plt.show()"
   ]
  },
  {
   "cell_type": "code",
   "execution_count": 18,
   "metadata": {},
   "outputs": [
    {
     "data": {
      "image/png": "[encoded data removed]",
      "text/plain": [
       "<matplotlib.figure.Figure at 0x11501ed30>"
      ]
     },
     "metadata": {},
     "output_type": "display_data"
    }
   ],
   "source": [
    "plt.figure()\n",
    "plt.plot(1.5, 1.5, 'o')\n",
    "plt.plot(2, 2, 'o')\n",
    "plt.plot(2.5, 2.5, 'o')\n",
    "plt.show()"
   ]
  },
  {
   "cell_type": "code",
   "execution_count": 19,
   "metadata": {},
   "outputs": [
    {
     "data": {
      "text/plain": [
       "[<matplotlib.spines.Spine at 0x11532dd68>,\n",
       " <matplotlib.spines.Spine at 0x11532de80>,\n",
       " <matplotlib.spines.Spine at 0x11532df98>,\n",
       " <matplotlib.spines.Spine at 0x11533b0f0>,\n",
       " <matplotlib.axis.XAxis at 0x11533b1d0>,\n",
       " <matplotlib.axis.YAxis at 0x11533c828>,\n",
       " Text(0.5,1,''),\n",
       " Text(0,1,''),\n",
       " Text(1,1,''),\n",
       " <matplotlib.patches.Rectangle at 0x115345278>]"
      ]
     },
     "execution_count": 19,
     "metadata": {},
     "output_type": "execute_result"
    }
   ],
   "source": [
    "ax = plt.gca()\n",
    "ax.get_children()"
   ]
  },
  {
   "cell_type": "code",
   "execution_count": 22,
   "metadata": {},
   "outputs": [
    {
     "data": {
      "image/png": "[encoded data removed]",
      "text/plain": [
       "<matplotlib.figure.Figure at 0x11497dda0>"
      ]
     },
     "metadata": {},
     "output_type": "display_data"
    }
   ],
   "source": [
    "import numpy as np\n",
    "x = np.array([1, 2, 3, 4, 5, 6, 7])\n",
    "y = x\n",
    "colors = ['green'] * (len(x) - 1)\n",
    "colors.append('red')\n",
    "plt.figure()\n",
    "plt.scatter(x, y, s=100,c=colors)\n",
    "plt.show()"
   ]
  },
  {
   "cell_type": "code",
   "execution_count": 23,
   "metadata": {},
   "outputs": [
    {
     "data": {
      "text/plain": [
       "[(1, 6), (2, 7), (3, 8), (4, 9), (5, 10)]"
      ]
     },
     "execution_count": 23,
     "metadata": {},
     "output_type": "execute_result"
    }
   ],
   "source": [
    "zip_generator = zip([1,2,3,4,5], [6,7,8,9,10])\n",
    "list(zip_generator)"
   ]
  },
  {
   "cell_type": "code",
   "execution_count": 57,
   "metadata": {},
   "outputs": [
    {
     "name": "stdout",
     "output_type": "stream",
     "text": [
      "(1, 2, 3, 4, 5)\n",
      "(6, 7, 8, 9, 10)\n"
     ]
    }
   ],
   "source": [
    "zip_generator = zip([1,2,3,4,5], [6,7,8,9,10])\n",
    "x, y = zip(*zip_generator)\n",
    "print(x)\n",
    "print(y)"
   ]
  },
  {
   "cell_type": "code",
   "execution_count": 58,
   "metadata": {},
   "outputs": [
    {
     "data": {
      "text/plain": [
       "<matplotlib.collections.PathCollection at 0x11521ab00>"
      ]
     },
     "execution_count": 58,
     "metadata": {},
     "output_type": "execute_result"
    }
   ],
   "source": [
    "plt.figure()\n",
    "plt.scatter(x[:2], y[:2], s=200, c='red', label='Tall students')\n",
    "plt.scatter(x[2:], y[2:], s=100, c = 'blue', label='Short students')"
   ]
  },
  {
   "cell_type": "code",
   "execution_count": 59,
   "metadata": {},
   "outputs": [
    {
     "data": {
      "text/plain": [
       "Text(0.5,1,'Relationship between ball kicking and grade of the student')"
      ]
     },
     "execution_count": 59,
     "metadata": {},
     "output_type": "execute_result"
    }
   ],
   "source": [
    "plt.xlabel('the number of times a child kicked a ball')\n",
    "plt.ylabel('the grade of the student')\n",
    "plt.title('Relationship between ball kicking and grade of the student')"
   ]
  },
  {
   "cell_type": "code",
   "execution_count": 60,
   "metadata": {},
   "outputs": [
    {
     "data": {
      "image/png": "[encoded data removed]",
      "text/plain": [
       "<matplotlib.figure.Figure at 0x1157bea58>"
      ]
     },
     "metadata": {},
     "output_type": "display_data"
    }
   ],
   "source": [
    "plt.legend(loc=4, frameon=False, title='Legend')\n",
    "plt.show()"
   ]
  },
  {
   "cell_type": "code",
   "execution_count": 61,
   "metadata": {},
   "outputs": [
    {
     "data": {
      "text/plain": [
       "[<matplotlib.spines.Spine at 0x115227358>,\n",
       " <matplotlib.spines.Spine at 0x11565a860>,\n",
       " <matplotlib.spines.Spine at 0x1152218d0>,\n",
       " <matplotlib.spines.Spine at 0x1152215c0>,\n",
       " <matplotlib.axis.XAxis at 0x115221400>,\n",
       " <matplotlib.axis.YAxis at 0x115230320>,\n",
       " Text(0.5,1,''),\n",
       " Text(0,1,''),\n",
       " Text(1,1,''),\n",
       " <matplotlib.patches.Rectangle at 0x11523b0f0>]"
      ]
     },
     "execution_count": 61,
     "metadata": {},
     "output_type": "execute_result"
    }
   ],
   "source": [
    "plt.gca().get_children()"
   ]
  },
  {
   "cell_type": "code",
   "execution_count": 63,
   "metadata": {},
   "outputs": [],
   "source": [
    "from matplotlib.artist import Artist\n",
    "\n",
    "def rec_gc(art, depth=0):\n",
    "    if isinstance(art, Artist):\n",
    "        print(\"  \"*depth, str(art))\n",
    "        for child in art.get_children():\n",
    "            rec_gc(child, depth+2)"
   ]
  },
  {
   "cell_type": "code",
   "execution_count": 66,
   "metadata": {},
   "outputs": [
    {
     "name": "stdout",
     "output_type": "stream",
     "text": [
      " XAxis(54.000000,36.000000)\n",
      "     Text(0.5,0,'')\n",
      "     Text(1,0,'')\n",
      "     <matplotlib.axis.XTick object at 0x11522fcf8>\n",
      "         Line2D()\n",
      "         Line2D()\n",
      "         Line2D((0,0),(0,1))\n",
      "         Text(0,0,'')\n",
      "         Text(0,1,'')\n",
      "     <matplotlib.axis.XTick object at 0x115239f60>\n",
      "         Line2D()\n",
      "         Line2D()\n",
      "         Line2D((0,0),(0,1))\n",
      "         Text(0,0,'')\n",
      "         Text(0,1,'')\n",
      "     <matplotlib.axis.XTick object at 0x1154f4780>\n",
      "         Line2D()\n",
      "         Line2D()\n",
      "         Line2D((0,0),(0,1))\n",
      "         Text(0,0,'')\n",
      "         Text(0,1,'')\n",
      "     <matplotlib.axis.XTick object at 0x1154f8b38>\n",
      "         Line2D()\n",
      "         Line2D()\n",
      "         Line2D((0,0),(0,1))\n",
      "         Text(0,0,'')\n",
      "         Text(0,1,'')\n",
      "     <matplotlib.axis.XTick object at 0x1154fbd68>\n",
      "         Line2D()\n",
      "         Line2D()\n",
      "         Line2D((0,0),(0,1))\n",
      "         Text(0,0,'')\n",
      "         Text(0,1,'')\n",
      "     <matplotlib.axis.XTick object at 0x11524f438>\n",
      "         Line2D()\n",
      "         Line2D()\n",
      "         Line2D((0,0),(0,1))\n",
      "         Text(0,0,'')\n",
      "         Text(0,1,'')\n"
     ]
    }
   ],
   "source": [
    "rec_gc(plt.gca().get_children()[4])"
   ]
  },
  {
   "cell_type": "code",
   "execution_count": 67,
   "metadata": {
    "collapsed": true
   },
   "outputs": [],
   "source": [
    "data_points = np.array([1, 2, 3, 4, 5, 6, 7])\n",
    "quad_points = data_points ** 2"
   ]
  },
  {
   "cell_type": "code",
   "execution_count": 68,
   "metadata": {},
   "outputs": [
    {
     "data": {
      "text/plain": [
       "array([ 1,  4,  9, 16, 25, 36, 49])"
      ]
     },
     "execution_count": 68,
     "metadata": {},
     "output_type": "execute_result"
    }
   ],
   "source": [
    "quad_points"
   ]
  },
  {
   "cell_type": "code",
   "execution_count": 96,
   "metadata": {},
   "outputs": [
    {
     "data": {
      "text/plain": [
       "[<matplotlib.lines.Line2D at 0x115ffe0b8>,\n",
       " <matplotlib.lines.Line2D at 0x115ffe1d0>]"
      ]
     },
     "execution_count": 96,
     "metadata": {},
     "output_type": "execute_result"
    }
   ],
   "source": [
    "plt.figure()\n",
    "plt.plot(data_points, '-o', quad_points, '-o')"
   ]
  },
  {
   "cell_type": "code",
   "execution_count": 97,
   "metadata": {},
   "outputs": [
    {
     "data": {
      "text/plain": [
       "[<matplotlib.lines.Line2D at 0x115ca20b8>]"
      ]
     },
     "execution_count": 97,
     "metadata": {},
     "output_type": "execute_result"
    }
   ],
   "source": [
    "plt.plot([22, 44, 55], '--r')"
   ]
  },
  {
   "cell_type": "code",
   "execution_count": 98,
   "metadata": {},
   "outputs": [
    {
     "data": {
      "text/plain": [
       "<matplotlib.legend.Legend at 0x116003160>"
      ]
     },
     "execution_count": 98,
     "metadata": {},
     "output_type": "execute_result"
    }
   ],
   "source": [
    "plt.xlabel('some data')\n",
    "plt.ylabel('some other data')\n",
    "plt.title('title')\n",
    "plt.legend(['Baseline', 'Competition', 'Us'])"
   ]
  },
  {
   "cell_type": "code",
   "execution_count": 99,
   "metadata": {},
   "outputs": [
    {
     "data": {
      "text/plain": [
       "<matplotlib.collections.PolyCollection at 0x1160030f0>"
      ]
     },
     "execution_count": 99,
     "metadata": {},
     "output_type": "execute_result"
    }
   ],
   "source": [
    "plt.gca().fill_between(np.arange(len(data_points)), data_points, quad_points, facecolor='blue', alpha=0.25)"
   ]
  },
  {
   "cell_type": "code",
   "execution_count": 100,
   "metadata": {},
   "outputs": [
    {
     "data": {
      "image/png": "[encoded data removed]",
      "text/plain": [
       "<matplotlib.figure.Figure at 0x115ca2710>"
      ]
     },
     "metadata": {},
     "output_type": "display_data"
    }
   ],
   "source": [
    "plt.show()"
   ]
  },
  {
   "cell_type": "code",
   "execution_count": 104,
   "metadata": {
    "collapsed": true
   },
   "outputs": [],
   "source": [
    "observation_dates = np.arange('2017-01-01', '2017-01-08', dtype='datetime64[D]')"
   ]
  },
  {
   "cell_type": "code",
   "execution_count": 108,
   "metadata": {},
   "outputs": [
    {
     "data": {
      "text/plain": [
       "array(['2017-01-01', '2017-01-02', '2017-01-03', '2017-01-04',\n",
       "       '2017-01-05', '2017-01-06', '2017-01-07'], dtype='datetime64[D]')"
      ]
     },
     "execution_count": 108,
     "metadata": {},
     "output_type": "execute_result"
    }
   ],
   "source": [
    "observation_dates"
   ]
  },
  {
   "cell_type": "code",
   "execution_count": 109,
   "metadata": {},
   "outputs": [
    {
     "data": {
      "image/png": "[encoded data removed]",
      "text/plain": [
       "<matplotlib.figure.Figure at 0x116394978>"
      ]
     },
     "metadata": {},
     "output_type": "display_data"
    }
   ],
   "source": [
    "plt.figure()\n",
    "plt.plot(observation_dates, data_points, '-o',\n",
    "        observation_dates, quad_points, '-o')\n",
    "plt.show()"
   ]
  },
  {
   "cell_type": "code",
   "execution_count": 125,
   "metadata": {},
   "outputs": [
    {
     "data": {
      "text/plain": [
       "[<matplotlib.lines.Line2D at 0x118112400>,\n",
       " <matplotlib.lines.Line2D at 0x11829fcf8>]"
      ]
     },
     "execution_count": 125,
     "metadata": {},
     "output_type": "execute_result"
    }
   ],
   "source": [
    "import pandas as pd\n",
    "plt.figure()\n",
    "\n",
    "observation_dates = np.arange('2017-01-01', '2017-01-08', dtype='datetime64[D]')\n",
    "observation_dates = list(map(pd.to_datetime, observation_dates))\n",
    "\n",
    "plt.plot(observation_dates, data_points, '-o',\n",
    "        observation_dates, quad_points, '-o')"
   ]
  },
  {
   "cell_type": "code",
   "execution_count": 126,
   "metadata": {},
   "outputs": [],
   "source": [
    "x = plt.gca().xaxis\n",
    "\n",
    "for item in x.get_ticklabels():\n",
    "    item.set_rotation(45)\n",
    "    \n",
    "plt.subplots_adjust(bottom=0.25)"
   ]
  },
  {
   "cell_type": "code",
   "execution_count": 127,
   "metadata": {},
   "outputs": [
    {
     "data": {
      "text/plain": [
       "Text(0.5,1,'Quadratic vs. Linear performance')"
      ]
     },
     "execution_count": 127,
     "metadata": {},
     "output_type": "execute_result"
    }
   ],
   "source": [
    "ax = plt.gca()\n",
    "ax.set_xlabel('Date')\n",
    "ax.set_ylabel('Units')\n",
    "ax.set_title('Quadratic vs. Linear performance')"
   ]
  },
  {
   "cell_type": "code",
   "execution_count": 128,
   "metadata": {},
   "outputs": [
    {
     "data": {
      "image/png": "[encoded data removed]",
      "text/plain": [
       "<matplotlib.figure.Figure at 0x117d11978>"
      ]
     },
     "metadata": {},
     "output_type": "display_data"
    }
   ],
   "source": [
    "plt.show()"
   ]
  },
  {
   "cell_type": "code",
   "execution_count": 129,
   "metadata": {},
   "outputs": [
    {
     "data": {
      "image/png": "[encoded data removed]",
      "text/plain": [
       "<matplotlib.figure.Figure at 0x1180ee6d8>"
      ]
     },
     "metadata": {},
     "output_type": "display_data"
    }
   ],
   "source": [
    "import pandas as pd\n",
    "plt.figure()\n",
    "\n",
    "observation_dates = np.arange('2017-01-01', '2017-01-08', dtype='datetime64[D]')\n",
    "observation_dates = list(map(pd.to_datetime, observation_dates))\n",
    "\n",
    "plt.plot(observation_dates, data_points, '-o',\n",
    "        observation_dates, quad_points, '-o')\n",
    "\n",
    "x = plt.gca().xaxis\n",
    "\n",
    "for item in x.get_ticklabels():\n",
    "    item.set_rotation(45)\n",
    "    \n",
    "plt.subplots_adjust(bottom=0.25)\n",
    "\n",
    "ax = plt.gca()\n",
    "ax.set_xlabel('Date')\n",
    "ax.set_ylabel('Units')\n",
    "ax.set_title('Quadratic ($x^2$) vs. Linear performance ($x$)')\n",
    "plt.show()"
   ]
  },
  {
   "cell_type": "code",
   "execution_count": null,
   "metadata": {
    "collapsed": true
   },
   "outputs": [],
   "source": []
  }
 ],
 "metadata": {
  "kernelspec": {
   "display_name": "Python 3",
   "language": "python",
   "name": "python3"
  },
  "language_info": {
   "codemirror_mode": {
    "name": "ipython",
    "version": 3
   },
   "file_extension": ".py",
   "mimetype": "text/x-python",
   "name": "python",
   "nbconvert_exporter": "python",
   "pygments_lexer": "ipython3",
   "version": "3.5.3"
  }
 },
 "nbformat": 4,
 "nbformat_minor": 2
}
