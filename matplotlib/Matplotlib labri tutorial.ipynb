{
 "cells": [
  {
   "cell_type": "code",
   "execution_count": 1,
   "metadata": {
    "collapsed": true
   },
   "outputs": [],
   "source": [
    "import matplotlib.pyplot as plt"
   ]
  },
  {
   "cell_type": "code",
   "execution_count": 2,
   "metadata": {
    "collapsed": true
   },
   "outputs": [],
   "source": [
    "import numpy as np"
   ]
  },
  {
   "cell_type": "code",
   "execution_count": 4,
   "metadata": {
    "collapsed": true
   },
   "outputs": [],
   "source": [
    "X = np.linspace(-np.pi, np.pi, 256, endpoint=True)"
   ]
  },
  {
   "cell_type": "code",
   "execution_count": 5,
   "metadata": {},
   "outputs": [
    {
     "data": {
      "text/plain": [
       "array([-3.14159265, -3.11695271, -3.09231277, -3.06767283, -3.04303288,\n",
       "       -3.01839294, -2.993753  , -2.96911306, -2.94447311, -2.91983317,\n",
       "       -2.89519323, -2.87055329, -2.84591335, -2.8212734 , -2.79663346,\n",
       "       -2.77199352, -2.74735358, -2.72271363, -2.69807369, -2.67343375,\n",
       "       -2.64879381, -2.62415386, -2.59951392, -2.57487398, -2.55023404,\n",
       "       -2.52559409, -2.50095415, -2.47631421, -2.45167427, -2.42703432,\n",
       "       -2.40239438, -2.37775444, -2.3531145 , -2.32847456, -2.30383461,\n",
       "       -2.27919467, -2.25455473, -2.22991479, -2.20527484, -2.1806349 ,\n",
       "       -2.15599496, -2.13135502, -2.10671507, -2.08207513, -2.05743519,\n",
       "       -2.03279525, -2.0081553 , -1.98351536, -1.95887542, -1.93423548,\n",
       "       -1.90959553, -1.88495559, -1.86031565, -1.83567571, -1.81103577,\n",
       "       -1.78639582, -1.76175588, -1.73711594, -1.712476  , -1.68783605,\n",
       "       -1.66319611, -1.63855617, -1.61391623, -1.58927628, -1.56463634,\n",
       "       -1.5399964 , -1.51535646, -1.49071651, -1.46607657, -1.44143663,\n",
       "       -1.41679669, -1.39215674, -1.3675168 , -1.34287686, -1.31823692,\n",
       "       -1.29359698, -1.26895703, -1.24431709, -1.21967715, -1.19503721,\n",
       "       -1.17039726, -1.14575732, -1.12111738, -1.09647744, -1.07183749,\n",
       "       -1.04719755, -1.02255761, -0.99791767, -0.97327772, -0.94863778,\n",
       "       -0.92399784, -0.8993579 , -0.87471795, -0.85007801, -0.82543807,\n",
       "       -0.80079813, -0.77615819, -0.75151824, -0.7268783 , -0.70223836,\n",
       "       -0.67759842, -0.65295847, -0.62831853, -0.60367859, -0.57903865,\n",
       "       -0.5543987 , -0.52975876, -0.50511882, -0.48047888, -0.45583893,\n",
       "       -0.43119899, -0.40655905, -0.38191911, -0.35727916, -0.33263922,\n",
       "       -0.30799928, -0.28335934, -0.2587194 , -0.23407945, -0.20943951,\n",
       "       -0.18479957, -0.16015963, -0.13551968, -0.11087974, -0.0862398 ,\n",
       "       -0.06159986, -0.03695991, -0.01231997,  0.01231997,  0.03695991,\n",
       "        0.06159986,  0.0862398 ,  0.11087974,  0.13551968,  0.16015963,\n",
       "        0.18479957,  0.20943951,  0.23407945,  0.2587194 ,  0.28335934,\n",
       "        0.30799928,  0.33263922,  0.35727916,  0.38191911,  0.40655905,\n",
       "        0.43119899,  0.45583893,  0.48047888,  0.50511882,  0.52975876,\n",
       "        0.5543987 ,  0.57903865,  0.60367859,  0.62831853,  0.65295847,\n",
       "        0.67759842,  0.70223836,  0.7268783 ,  0.75151824,  0.77615819,\n",
       "        0.80079813,  0.82543807,  0.85007801,  0.87471795,  0.8993579 ,\n",
       "        0.92399784,  0.94863778,  0.97327772,  0.99791767,  1.02255761,\n",
       "        1.04719755,  1.07183749,  1.09647744,  1.12111738,  1.14575732,\n",
       "        1.17039726,  1.19503721,  1.21967715,  1.24431709,  1.26895703,\n",
       "        1.29359698,  1.31823692,  1.34287686,  1.3675168 ,  1.39215674,\n",
       "        1.41679669,  1.44143663,  1.46607657,  1.49071651,  1.51535646,\n",
       "        1.5399964 ,  1.56463634,  1.58927628,  1.61391623,  1.63855617,\n",
       "        1.66319611,  1.68783605,  1.712476  ,  1.73711594,  1.76175588,\n",
       "        1.78639582,  1.81103577,  1.83567571,  1.86031565,  1.88495559,\n",
       "        1.90959553,  1.93423548,  1.95887542,  1.98351536,  2.0081553 ,\n",
       "        2.03279525,  2.05743519,  2.08207513,  2.10671507,  2.13135502,\n",
       "        2.15599496,  2.1806349 ,  2.20527484,  2.22991479,  2.25455473,\n",
       "        2.27919467,  2.30383461,  2.32847456,  2.3531145 ,  2.37775444,\n",
       "        2.40239438,  2.42703432,  2.45167427,  2.47631421,  2.50095415,\n",
       "        2.52559409,  2.55023404,  2.57487398,  2.59951392,  2.62415386,\n",
       "        2.64879381,  2.67343375,  2.69807369,  2.72271363,  2.74735358,\n",
       "        2.77199352,  2.79663346,  2.8212734 ,  2.84591335,  2.87055329,\n",
       "        2.89519323,  2.91983317,  2.94447311,  2.96911306,  2.993753  ,\n",
       "        3.01839294,  3.04303288,  3.06767283,  3.09231277,  3.11695271,\n",
       "        3.14159265])"
      ]
     },
     "execution_count": 5,
     "metadata": {},
     "output_type": "execute_result"
    }
   ],
   "source": [
    "X"
   ]
  },
  {
   "cell_type": "code",
   "execution_count": 6,
   "metadata": {
    "collapsed": true
   },
   "outputs": [],
   "source": [
    "C, S = np.cos(X), np.sin(X)"
   ]
  },
  {
   "cell_type": "code",
   "execution_count": 9,
   "metadata": {},
   "outputs": [
    {
     "data": {
      "text/plain": [
       "array([-1.        , -0.99969645, -0.99878599, -0.99726917, -0.99514692,\n",
       "       -0.99242051, -0.98909161, -0.98516223, -0.98063477, -0.97551197,\n",
       "       -0.96979694, -0.96349314, -0.95660442, -0.94913494, -0.94108925,\n",
       "       -0.93247223, -0.92328911, -0.91354546, -0.9032472 , -0.89240058,\n",
       "       -0.88101219, -0.86908895, -0.85663808, -0.84366715, -0.83018403,\n",
       "       -0.81619691, -0.80171428, -0.78674494, -0.77129796, -0.75538273,\n",
       "       -0.73900892, -0.72218645, -0.70492555, -0.68723669, -0.66913061,\n",
       "       -0.6506183 , -0.63171101, -0.6124202 , -0.5927576 , -0.57273514,\n",
       "       -0.55236497, -0.53165947, -0.51063119, -0.48929292, -0.46765759,\n",
       "       -0.44573836, -0.42354851, -0.40110153, -0.37841105, -0.35549083])"
      ]
     },
     "execution_count": 9,
     "metadata": {},
     "output_type": "execute_result"
    }
   ],
   "source": [
    "C[:50]"
   ]
  },
  {
   "cell_type": "code",
   "execution_count": 10,
   "metadata": {},
   "outputs": [
    {
     "data": {
      "text/plain": [
       "array([  9.34679767e-01,   9.25637660e-01,   9.16033601e-01,\n",
       "         9.05873422e-01,   8.95163291e-01,   8.83909710e-01,\n",
       "         8.72119511e-01,   8.59799851e-01,   8.46958211e-01,\n",
       "         8.33602385e-01,   8.19740483e-01,   8.05380919e-01,\n",
       "         7.90532412e-01,   7.75203976e-01,   7.59404917e-01,\n",
       "         7.43144825e-01,   7.26433574e-01,   7.09281308e-01,\n",
       "         6.91698439e-01,   6.73695644e-01,   6.55283850e-01,\n",
       "         6.36474236e-01,   6.17278221e-01,   5.97707459e-01,\n",
       "         5.77773831e-01,   5.57489439e-01,   5.36866598e-01,\n",
       "         5.15917826e-01,   4.94655843e-01,   4.73093557e-01,\n",
       "         4.51244057e-01,   4.29120609e-01,   4.06736643e-01,\n",
       "         3.84105749e-01,   3.61241666e-01,   3.38158275e-01,\n",
       "         3.14869589e-01,   2.91389747e-01,   2.67733003e-01,\n",
       "         2.43913720e-01,   2.19946358e-01,   1.95845467e-01,\n",
       "         1.71625679e-01,   1.47301698e-01,   1.22888291e-01,\n",
       "         9.84002783e-02,   7.38525275e-02,   4.92599411e-02,\n",
       "         2.46374492e-02,   1.22464680e-16])"
      ]
     },
     "execution_count": 10,
     "metadata": {},
     "output_type": "execute_result"
    }
   ],
   "source": [
    "S[-50:]"
   ]
  },
  {
   "cell_type": "code",
   "execution_count": 11,
   "metadata": {},
   "outputs": [
    {
     "data": {
      "image/png": "[encoded data removed]",
      "text/plain": [
       "<matplotlib.figure.Figure at 0x10c3b1b38>"
      ]
     },
     "metadata": {},
     "output_type": "display_data"
    }
   ],
   "source": [
    "plt.plot(X,C)\n",
    "plt.plot(X,S)\n",
    "plt.show()"
   ]
  },
  {
   "cell_type": "markdown",
   "metadata": {},
   "source": [
    "## Instantiating defaults"
   ]
  },
  {
   "cell_type": "code",
   "execution_count": 18,
   "metadata": {
    "collapsed": true
   },
   "outputs": [],
   "source": [
    "import matplotlib as mpl"
   ]
  },
  {
   "cell_type": "code",
   "execution_count": 22,
   "metadata": {},
   "outputs": [
    {
     "data": {
      "text/plain": [
       "RcParams({'_internal.classic_mode': False,\n",
       "          'agg.path.chunksize': 0,\n",
       "          'animation.avconv_args': [],\n",
       "          'animation.avconv_path': 'avconv',\n",
       "          'animation.bitrate': -1,\n",
       "          'animation.codec': 'h264',\n",
       "          'animation.convert_args': [],\n",
       "          'animation.convert_path': 'convert',\n",
       "          'animation.embed_limit': 20.0,\n",
       "          'animation.ffmpeg_args': [],\n",
       "          'animation.ffmpeg_path': 'ffmpeg',\n",
       "          'animation.frame_format': 'png',\n",
       "          'animation.html': 'none',\n",
       "          'animation.html_args': [],\n",
       "          'animation.mencoder_args': [],\n",
       "          'animation.mencoder_path': 'mencoder',\n",
       "          'animation.writer': 'ffmpeg',\n",
       "          'axes.autolimit_mode': 'data',\n",
       "          'axes.axisbelow': 'line',\n",
       "          'axes.edgecolor': 'k',\n",
       "          'axes.facecolor': 'w',\n",
       "          'axes.formatter.limits': [-7, 7],\n",
       "          'axes.formatter.min_exponent': 0,\n",
       "          'axes.formatter.offset_threshold': 4,\n",
       "          'axes.formatter.use_locale': False,\n",
       "          'axes.formatter.use_mathtext': False,\n",
       "          'axes.formatter.useoffset': True,\n",
       "          'axes.grid': False,\n",
       "          'axes.grid.axis': 'both',\n",
       "          'axes.grid.which': 'major',\n",
       "          'axes.hold': None,\n",
       "          'axes.labelcolor': 'k',\n",
       "          'axes.labelpad': 4.0,\n",
       "          'axes.labelsize': 'medium',\n",
       "          'axes.labelweight': 'normal',\n",
       "          'axes.linewidth': 0.8,\n",
       "          'axes.prop_cycle': cycler('color', ['#1f77b4', '#ff7f0e', '#2ca02c', '#d62728', '#9467bd', '#8c564b', '#e377c2', '#7f7f7f', '#bcbd22', '#17becf']),\n",
       "          'axes.spines.bottom': True,\n",
       "          'axes.spines.left': True,\n",
       "          'axes.spines.right': True,\n",
       "          'axes.spines.top': True,\n",
       "          'axes.titlepad': 6.0,\n",
       "          'axes.titlesize': 'large',\n",
       "          'axes.titleweight': 'normal',\n",
       "          'axes.unicode_minus': True,\n",
       "          'axes.xmargin': 0.05,\n",
       "          'axes.ymargin': 0.05,\n",
       "          'axes3d.grid': True,\n",
       "          'backend': 'module://ipykernel.pylab.backend_inline',\n",
       "          'backend.qt4': 'PyQt4',\n",
       "          'backend.qt5': 'PyQt5',\n",
       "          'backend_fallback': True,\n",
       "          'boxplot.bootstrap': None,\n",
       "          'boxplot.boxprops.color': 'k',\n",
       "          'boxplot.boxprops.linestyle': '-',\n",
       "          'boxplot.boxprops.linewidth': 1.0,\n",
       "          'boxplot.capprops.color': 'k',\n",
       "          'boxplot.capprops.linestyle': '-',\n",
       "          'boxplot.capprops.linewidth': 1.0,\n",
       "          'boxplot.flierprops.color': 'k',\n",
       "          'boxplot.flierprops.linestyle': 'none',\n",
       "          'boxplot.flierprops.linewidth': 1.0,\n",
       "          'boxplot.flierprops.marker': 'o',\n",
       "          'boxplot.flierprops.markeredgecolor': 'k',\n",
       "          'boxplot.flierprops.markerfacecolor': 'none',\n",
       "          'boxplot.flierprops.markersize': 6.0,\n",
       "          'boxplot.meanline': False,\n",
       "          'boxplot.meanprops.color': 'C2',\n",
       "          'boxplot.meanprops.linestyle': '--',\n",
       "          'boxplot.meanprops.linewidth': 1.0,\n",
       "          'boxplot.meanprops.marker': '^',\n",
       "          'boxplot.meanprops.markeredgecolor': 'C2',\n",
       "          'boxplot.meanprops.markerfacecolor': 'C2',\n",
       "          'boxplot.meanprops.markersize': 6.0,\n",
       "          'boxplot.medianprops.color': 'C1',\n",
       "          'boxplot.medianprops.linestyle': '-',\n",
       "          'boxplot.medianprops.linewidth': 1.0,\n",
       "          'boxplot.notch': False,\n",
       "          'boxplot.patchartist': False,\n",
       "          'boxplot.showbox': True,\n",
       "          'boxplot.showcaps': True,\n",
       "          'boxplot.showfliers': True,\n",
       "          'boxplot.showmeans': False,\n",
       "          'boxplot.vertical': True,\n",
       "          'boxplot.whiskerprops.color': 'k',\n",
       "          'boxplot.whiskerprops.linestyle': '-',\n",
       "          'boxplot.whiskerprops.linewidth': 1.0,\n",
       "          'boxplot.whiskers': 1.5,\n",
       "          'contour.corner_mask': True,\n",
       "          'contour.negative_linestyle': 'dashed',\n",
       "          'datapath': '/Users/tousifahmed/anaconda2/envs/snakes/lib/python3.5/site-packages/matplotlib/mpl-data',\n",
       "          'date.autoformatter.day': '%Y-%m-%d',\n",
       "          'date.autoformatter.hour': '%m-%d %H',\n",
       "          'date.autoformatter.microsecond': '%M:%S.%f',\n",
       "          'date.autoformatter.minute': '%d %H:%M',\n",
       "          'date.autoformatter.month': '%Y-%m',\n",
       "          'date.autoformatter.second': '%H:%M:%S',\n",
       "          'date.autoformatter.year': '%Y',\n",
       "          'docstring.hardcopy': False,\n",
       "          'errorbar.capsize': 0.0,\n",
       "          'examples.directory': '',\n",
       "          'figure.autolayout': False,\n",
       "          'figure.dpi': 72.0,\n",
       "          'figure.edgecolor': (1, 1, 1, 0),\n",
       "          'figure.facecolor': (1, 1, 1, 0),\n",
       "          'figure.figsize': [6.0, 4.0],\n",
       "          'figure.frameon': True,\n",
       "          'figure.max_open_warning': 20,\n",
       "          'figure.subplot.bottom': 0.125,\n",
       "          'figure.subplot.hspace': 0.2,\n",
       "          'figure.subplot.left': 0.125,\n",
       "          'figure.subplot.right': 0.9,\n",
       "          'figure.subplot.top': 0.88,\n",
       "          'figure.subplot.wspace': 0.2,\n",
       "          'figure.titlesize': 'large',\n",
       "          'figure.titleweight': 'normal',\n",
       "          'font.cursive': ['Apple Chancery',\n",
       "                           'Textile',\n",
       "                           'Zapf Chancery',\n",
       "                           'Sand',\n",
       "                           'Script MT',\n",
       "                           'Felipa',\n",
       "                           'cursive'],\n",
       "          'font.family': ['sans-serif'],\n",
       "          'font.fantasy': ['Comic Sans MS',\n",
       "                           'Chicago',\n",
       "                           'Charcoal',\n",
       "                           'ImpactWestern',\n",
       "                           'Humor Sans',\n",
       "                           'xkcd',\n",
       "                           'fantasy'],\n",
       "          'font.monospace': ['DejaVu Sans Mono',\n",
       "                             'Bitstream Vera Sans Mono',\n",
       "                             'Computer Modern Typewriter',\n",
       "                             'Andale Mono',\n",
       "                             'Nimbus Mono L',\n",
       "                             'Courier New',\n",
       "                             'Courier',\n",
       "                             'Fixed',\n",
       "                             'Terminal',\n",
       "                             'monospace'],\n",
       "          'font.sans-serif': ['DejaVu Sans',\n",
       "                              'Bitstream Vera Sans',\n",
       "                              'Computer Modern Sans Serif',\n",
       "                              'Lucida Grande',\n",
       "                              'Verdana',\n",
       "                              'Geneva',\n",
       "                              'Lucid',\n",
       "                              'Arial',\n",
       "                              'Helvetica',\n",
       "                              'Avant Garde',\n",
       "                              'sans-serif'],\n",
       "          'font.serif': ['DejaVu Serif',\n",
       "                         'Bitstream Vera Serif',\n",
       "                         'Computer Modern Roman',\n",
       "                         'New Century Schoolbook',\n",
       "                         'Century Schoolbook L',\n",
       "                         'Utopia',\n",
       "                         'ITC Bookman',\n",
       "                         'Bookman',\n",
       "                         'Nimbus Roman No9 L',\n",
       "                         'Times New Roman',\n",
       "                         'Times',\n",
       "                         'Palatino',\n",
       "                         'Charter',\n",
       "                         'serif'],\n",
       "          'font.size': 10.0,\n",
       "          'font.stretch': 'normal',\n",
       "          'font.style': 'normal',\n",
       "          'font.variant': 'normal',\n",
       "          'font.weight': 'normal',\n",
       "          'grid.alpha': 1.0,\n",
       "          'grid.color': '#b0b0b0',\n",
       "          'grid.linestyle': '-',\n",
       "          'grid.linewidth': 0.8,\n",
       "          'hatch.color': 'k',\n",
       "          'hatch.linewidth': 1.0,\n",
       "          'hist.bins': 10,\n",
       "          'image.aspect': 'equal',\n",
       "          'image.cmap': 'viridis',\n",
       "          'image.composite_image': True,\n",
       "          'image.interpolation': 'nearest',\n",
       "          'image.lut': 256,\n",
       "          'image.origin': 'upper',\n",
       "          'image.resample': True,\n",
       "          'interactive': False,\n",
       "          'keymap.all_axes': ['a'],\n",
       "          'keymap.back': ['left', 'c', 'backspace'],\n",
       "          'keymap.forward': ['right', 'v'],\n",
       "          'keymap.fullscreen': ['f', 'ctrl+f'],\n",
       "          'keymap.grid': ['g'],\n",
       "          'keymap.grid_minor': ['G'],\n",
       "          'keymap.home': ['h', 'r', 'home'],\n",
       "          'keymap.pan': ['p'],\n",
       "          'keymap.quit': ['ctrl+w', 'cmd+w', 'q'],\n",
       "          'keymap.quit_all': ['W', 'cmd+W', 'Q'],\n",
       "          'keymap.save': ['s', 'ctrl+s'],\n",
       "          'keymap.xscale': ['k', 'L'],\n",
       "          'keymap.yscale': ['l'],\n",
       "          'keymap.zoom': ['o'],\n",
       "          'legend.borderaxespad': 0.5,\n",
       "          'legend.borderpad': 0.4,\n",
       "          'legend.columnspacing': 2.0,\n",
       "          'legend.edgecolor': '0.8',\n",
       "          'legend.facecolor': 'inherit',\n",
       "          'legend.fancybox': True,\n",
       "          'legend.fontsize': 'medium',\n",
       "          'legend.framealpha': 0.8,\n",
       "          'legend.frameon': True,\n",
       "          'legend.handleheight': 0.7,\n",
       "          'legend.handlelength': 2.0,\n",
       "          'legend.handletextpad': 0.8,\n",
       "          'legend.labelspacing': 0.5,\n",
       "          'legend.loc': 'best',\n",
       "          'legend.markerscale': 1.0,\n",
       "          'legend.numpoints': 1,\n",
       "          'legend.scatterpoints': 1,\n",
       "          'legend.shadow': False,\n",
       "          'lines.antialiased': True,\n",
       "          'lines.color': 'C0',\n",
       "          'lines.dash_capstyle': 'butt',\n",
       "          'lines.dash_joinstyle': 'round',\n",
       "          'lines.dashdot_pattern': [6.4, 1.6, 1.0, 1.6],\n",
       "          'lines.dashed_pattern': [3.7, 1.6],\n",
       "          'lines.dotted_pattern': [1.0, 1.65],\n",
       "          'lines.linestyle': '-',\n",
       "          'lines.linewidth': 1.5,\n",
       "          'lines.marker': 'None',\n",
       "          'lines.markeredgewidth': 1.0,\n",
       "          'lines.markersize': 6.0,\n",
       "          'lines.scale_dashes': True,\n",
       "          'lines.solid_capstyle': 'projecting',\n",
       "          'lines.solid_joinstyle': 'round',\n",
       "          'markers.fillstyle': 'full',\n",
       "          'mathtext.bf': 'sans:bold',\n",
       "          'mathtext.cal': 'cursive',\n",
       "          'mathtext.default': 'it',\n",
       "          'mathtext.fallback_to_cm': True,\n",
       "          'mathtext.fontset': 'dejavusans',\n",
       "          'mathtext.it': 'sans:italic',\n",
       "          'mathtext.rm': 'sans',\n",
       "          'mathtext.sf': 'sans',\n",
       "          'mathtext.tt': 'monospace',\n",
       "          'nbagg.transparent': True,\n",
       "          'patch.antialiased': True,\n",
       "          'patch.edgecolor': 'k',\n",
       "          'patch.facecolor': 'C0',\n",
       "          'patch.force_edgecolor': False,\n",
       "          'patch.linewidth': 1.0,\n",
       "          'path.effects': [],\n",
       "          'path.simplify': True,\n",
       "          'path.simplify_threshold': 0.1111111111111111,\n",
       "          'path.sketch': None,\n",
       "          'path.snap': True,\n",
       "          'pdf.compression': 6,\n",
       "          'pdf.fonttype': 3,\n",
       "          'pdf.inheritcolor': False,\n",
       "          'pdf.use14corefonts': False,\n",
       "          'pgf.debug': False,\n",
       "          'pgf.preamble': [],\n",
       "          'pgf.rcfonts': True,\n",
       "          'pgf.texsystem': 'xelatex',\n",
       "          'plugins.directory': '.matplotlib_plugins',\n",
       "          'polaraxes.grid': True,\n",
       "          'ps.distiller.res': 6000,\n",
       "          'ps.fonttype': 3,\n",
       "          'ps.papersize': 'letter',\n",
       "          'ps.useafm': False,\n",
       "          'ps.usedistiller': False,\n",
       "          'savefig.bbox': None,\n",
       "          'savefig.directory': '~',\n",
       "          'savefig.dpi': 'figure',\n",
       "          'savefig.edgecolor': 'w',\n",
       "          'savefig.facecolor': 'w',\n",
       "          'savefig.format': 'png',\n",
       "          'savefig.frameon': True,\n",
       "          'savefig.jpeg_quality': 95,\n",
       "          'savefig.orientation': 'portrait',\n",
       "          'savefig.pad_inches': 0.1,\n",
       "          'savefig.transparent': False,\n",
       "          'scatter.marker': 'o',\n",
       "          'svg.fonttype': 'path',\n",
       "          'svg.hashsalt': None,\n",
       "          'svg.image_inline': True,\n",
       "          'text.antialiased': True,\n",
       "          'text.color': 'k',\n",
       "          'text.hinting': 'auto',\n",
       "          'text.hinting_factor': 8,\n",
       "          'text.latex.preamble': [],\n",
       "          'text.latex.preview': False,\n",
       "          'text.latex.unicode': False,\n",
       "          'text.usetex': False,\n",
       "          'timezone': 'UTC',\n",
       "          'tk.window_focus': False,\n",
       "          'toolbar': 'toolbar2',\n",
       "          'verbose.fileo': 'sys.stdout',\n",
       "          'verbose.level': 'silent',\n",
       "          'webagg.open_in_browser': True,\n",
       "          'webagg.port': 8988,\n",
       "          'webagg.port_retries': 50,\n",
       "          'xtick.alignment': 'center',\n",
       "          'xtick.bottom': True,\n",
       "          'xtick.color': 'k',\n",
       "          'xtick.direction': 'out',\n",
       "          'xtick.labelsize': 'medium',\n",
       "          'xtick.major.bottom': True,\n",
       "          'xtick.major.pad': 3.5,\n",
       "          'xtick.major.size': 3.5,\n",
       "          'xtick.major.top': True,\n",
       "          'xtick.major.width': 0.8,\n",
       "          'xtick.minor.bottom': True,\n",
       "          'xtick.minor.pad': 3.4,\n",
       "          'xtick.minor.size': 2.0,\n",
       "          'xtick.minor.top': True,\n",
       "          'xtick.minor.visible': False,\n",
       "          'xtick.minor.width': 0.6,\n",
       "          'xtick.top': False,\n",
       "          'ytick.alignment': 'center_baseline',\n",
       "          'ytick.color': 'k',\n",
       "          'ytick.direction': 'out',\n",
       "          'ytick.labelsize': 'medium',\n",
       "          'ytick.left': True,\n",
       "          'ytick.major.left': True,\n",
       "          'ytick.major.pad': 3.5,\n",
       "          'ytick.major.right': True,\n",
       "          'ytick.major.size': 3.5,\n",
       "          'ytick.major.width': 0.8,\n",
       "          'ytick.minor.left': True,\n",
       "          'ytick.minor.pad': 3.4,\n",
       "          'ytick.minor.right': True,\n",
       "          'ytick.minor.size': 2.0,\n",
       "          'ytick.minor.visible': False,\n",
       "          'ytick.minor.width': 0.6,\n",
       "          'ytick.right': False})"
      ]
     },
     "execution_count": 22,
     "metadata": {},
     "output_type": "execute_result"
    }
   ],
   "source": [
    "mpl.rcParams"
   ]
  },
  {
   "cell_type": "code",
   "execution_count": 23,
   "metadata": {},
   "outputs": [
    {
     "data": {
      "text/plain": [
       "[6.0, 4.0]"
      ]
     },
     "execution_count": 23,
     "metadata": {},
     "output_type": "execute_result"
    }
   ],
   "source": [
    "mpl.rcParams['figure.figsize']"
   ]
  },
  {
   "cell_type": "code",
   "execution_count": 24,
   "metadata": {},
   "outputs": [
    {
     "data": {
      "text/plain": [
       "72.0"
      ]
     },
     "execution_count": 24,
     "metadata": {},
     "output_type": "execute_result"
    }
   ],
   "source": [
    "mpl.rcParams['figure.dpi']"
   ]
  },
  {
   "cell_type": "code",
   "execution_count": 25,
   "metadata": {},
   "outputs": [
    {
     "data": {
      "text/plain": [
       "['dark_background',\n",
       " 'seaborn-notebook',\n",
       " 'seaborn-dark-palette',\n",
       " 'seaborn-talk',\n",
       " 'seaborn-poster',\n",
       " 'seaborn-paper',\n",
       " 'seaborn-pastel',\n",
       " '_classic_test',\n",
       " 'seaborn-bright',\n",
       " 'classic',\n",
       " 'fast',\n",
       " 'seaborn-deep',\n",
       " 'Solarize_Light2',\n",
       " 'seaborn-muted',\n",
       " 'seaborn-darkgrid',\n",
       " 'seaborn',\n",
       " 'seaborn-white',\n",
       " 'seaborn-colorblind',\n",
       " 'bmh',\n",
       " 'ggplot',\n",
       " 'seaborn-whitegrid',\n",
       " 'seaborn-ticks',\n",
       " 'seaborn-dark',\n",
       " 'fivethirtyeight',\n",
       " 'grayscale']"
      ]
     },
     "execution_count": 25,
     "metadata": {},
     "output_type": "execute_result"
    }
   ],
   "source": [
    "plt.style.available"
   ]
  },
  {
   "cell_type": "code",
   "execution_count": 26,
   "metadata": {
    "collapsed": true
   },
   "outputs": [],
   "source": [
    "plt.figure(figsize=(8, 6), dpi=80)\n",
    "plt.subplot?"
   ]
  },
  {
   "cell_type": "code",
   "execution_count": null,
   "metadata": {
    "collapsed": true
   },
   "outputs": [],
   "source": []
  }
 ],
 "metadata": {
  "kernelspec": {
   "display_name": "Python 3",
   "language": "python",
   "name": "python3"
  },
  "language_info": {
   "codemirror_mode": {
    "name": "ipython",
    "version": 3
   },
   "file_extension": ".py",
   "mimetype": "text/x-python",
   "name": "python",
   "nbconvert_exporter": "python",
   "pygments_lexer": "ipython3",
   "version": "3.5.3"
  }
 },
 "nbformat": 4,
 "nbformat_minor": 2
}
